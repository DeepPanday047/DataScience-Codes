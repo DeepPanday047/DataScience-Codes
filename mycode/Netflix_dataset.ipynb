{
  "cells": [
    {
      "cell_type": "code",
      "execution_count": null,
      "metadata": {
        "id": "7U8qR1Rx-_aq"
      },
      "outputs": [],
      "source": [
        "#Netflix prize dataset\n",
        "#importing the necessary libraries for importing the dataset in jupyter notebook\n",
        "#100M ratings 17770 movies 480,000 users 4 datasets\n",
        "import pandas as pd\n",
        "import numpy as np\n",
        "import matplotlib.pyplot as plt"
      ]
    },
    {
      "cell_type": "code",
      "execution_count": null,
      "metadata": {
        "colab": {
          "base_uri": "https://localhost:8080/",
          "height": 206
        },
        "id": "tXwTEPVv-_as",
        "outputId": "ca1da166-8202-4cc0-c49d-1ccdd2e373c7"
      },
      "outputs": [],
      "source": [
        "# Reading dataset file\n",
        "netflix_dataset = pd.read_csv('Netflix dataset\\combined_data_1.txt.zip',header = None, names = ['Cust_Id', 'Rating'], usecols = [0,1])\n",
        "netflix_dataset.head()"
      ]
    },
    {
      "cell_type": "code",
      "execution_count": null,
      "metadata": {
        "colab": {
          "base_uri": "https://localhost:8080/",
          "height": 206
        },
        "id": "nejnJ484-_at",
        "outputId": "8439b133-98ac-40fe-89ac-acb027dded56"
      },
      "outputs": [],
      "source": [
        "netflix_dataset.head()"
      ]
    },
    {
      "cell_type": "code",
      "execution_count": null,
      "metadata": {
        "colab": {
          "base_uri": "https://localhost:8080/"
        },
        "id": "un9i0h6y-_au",
        "outputId": "d6a6ce65-f066-4444-b4e9-abfb51a3a397"
      },
      "outputs": [],
      "source": [
        "netflix_dataset.dtypes\n"
      ]
    },
    {
      "cell_type": "code",
      "execution_count": null,
      "metadata": {
        "id": "MhvKyaHd-_av"
      },
      "outputs": [],
      "source": [
        "netflix_dataset['Rating']=netflix_dataset['Rating'].astype(float)"
      ]
    },
    {
      "cell_type": "code",
      "execution_count": null,
      "metadata": {
        "colab": {
          "base_uri": "https://localhost:8080/"
        },
        "id": "ZypLGxet-_av",
        "outputId": "35d890bd-4ed2-4c8a-91ef-1527a8f9593d"
      },
      "outputs": [],
      "source": [
        "netflix_dataset.dtypes"
      ]
    },
    {
      "cell_type": "code",
      "execution_count": null,
      "metadata": {
        "colab": {
          "base_uri": "https://localhost:8080/"
        },
        "id": "_3L_ILFt-_aw",
        "outputId": "cd2aeff3-d0dd-4225-cd71-452a11ff6e48"
      },
      "outputs": [],
      "source": [
        "netflix_dataset.shape"
      ]
    },
    {
      "cell_type": "code",
      "execution_count": null,
      "metadata": {
        "id": "hVoJgZk0-_ax"
      },
      "outputs": [],
      "source": [
        "#To find out how many people have rated the movies as 1, 2, 3,4,5 stars ratings to the movies\n",
        "stars=netflix_dataset.groupby('Rating')['Rating'].agg(['count'])"
      ]
    },
    {
      "cell_type": "code",
      "execution_count": null,
      "metadata": {
        "colab": {
          "base_uri": "https://localhost:8080/",
          "height": 237
        },
        "id": "PpFOHbDS-_ax",
        "outputId": "5203f07b-06bf-4754-fb6d-6530dfbbbe06"
      },
      "outputs": [],
      "source": [
        "stars"
      ]
    },
    {
      "cell_type": "code",
      "execution_count": null,
      "metadata": {
        "colab": {
          "base_uri": "https://localhost:8080/"
        },
        "id": "kWRiMiU--_ay",
        "outputId": "2fa40025-853c-41d0-9c95-6dcf538c6111"
      },
      "outputs": [],
      "source": [
        "#to claculate how many movies we are having in the dataset\n",
        "movie_count=netflix_dataset.isnull().sum()\n",
        "movie_count"
      ]
    },
    {
      "cell_type": "code",
      "execution_count": null,
      "metadata": {
        "colab": {
          "base_uri": "https://localhost:8080/"
        },
        "id": "nehrszLW-_ay",
        "outputId": "a82bfeba-fb2b-4d88-a2dc-a99a8700c463"
      },
      "outputs": [],
      "source": [
        "movie_count=netflix_dataset.isnull().sum()[1]\n",
        "movie_count"
      ]
    },
    {
      "cell_type": "code",
      "execution_count": null,
      "metadata": {
        "id": "Uof2UpvZ-_ay"
      },
      "outputs": [],
      "source": [
        "#get the customer count with NaN values\n",
        "customer_count=netflix_dataset['Cust_Id'].nunique()"
      ]
    },
    {
      "cell_type": "code",
      "execution_count": null,
      "metadata": {
        "colab": {
          "base_uri": "https://localhost:8080/"
        },
        "id": "mNBzXFly-_az",
        "outputId": "5eef9568-fe65-45e5-a726-da4fccb4ce1c"
      },
      "outputs": [],
      "source": [
        "customer_count"
      ]
    },
    {
      "cell_type": "code",
      "execution_count": null,
      "metadata": {
        "colab": {
          "base_uri": "https://localhost:8080/"
        },
        "id": "WurjX2Y3-_az",
        "outputId": "108455f4-0d24-4a76-b701-5bfec1eaa72c"
      },
      "outputs": [],
      "source": [
        "#without NaN values\n",
        "customer_count=netflix_dataset['Cust_Id'].nunique()-movie_count\n",
        "customer_count"
      ]
    },
    {
      "cell_type": "code",
      "execution_count": null,
      "metadata": {
        "colab": {
          "base_uri": "https://localhost:8080/"
        },
        "id": "jThYH-kK-_az",
        "outputId": "b2b6ff53-2346-46bd-addc-c7d1cad86712"
      },
      "outputs": [],
      "source": [
        "#get the total number of ratings given by the customers\n",
        "rating_count=netflix_dataset['Cust_Id'].count()-movie_count\n",
        "rating_count"
      ]
    },
    {
      "cell_type": "code",
      "execution_count": null,
      "metadata": {
        "colab": {
          "base_uri": "https://localhost:8080/",
          "height": 448
        },
        "id": "-o191CZK-_a0",
        "outputId": "867176bb-db08-47a7-d775-e8197ccb1a58"
      },
      "outputs": [],
      "source": [
        "ax=stars.plot(kind='barh', legend=False, figsize=(15,10))\n",
        "plt.title(f'Total pool: {movie_count} Movies, {customer_count} Customers, {rating_count} ratings given', fontsize=20)\n",
        "plt.grid(True)"
      ]
    },
    {
      "cell_type": "code",
      "execution_count": null,
      "metadata": {
        "id": "hz1ummB_-_a0"
      },
      "outputs": [],
      "source": [
        "#add another column that will have movie id\n",
        "#first of all we will be calculating how many null values I am having in the ratings column\n",
        "df_nan=pd.DataFrame(pd.isnull(netflix_dataset.Rating))"
      ]
    },
    {
      "cell_type": "code",
      "execution_count": null,
      "metadata": {
        "colab": {
          "base_uri": "https://localhost:8080/",
          "height": 206
        },
        "id": "ZJOsW9z_-_a0",
        "outputId": "81f8f452-b848-4dfa-a662-0cad62b7174c"
      },
      "outputs": [],
      "source": [
        "df_nan.head()"
      ]
    },
    {
      "cell_type": "code",
      "execution_count": null,
      "metadata": {
        "id": "hxpTM_Yx-_a1"
      },
      "outputs": [],
      "source": [
        "df_nan=df_nan[df_nan['Rating']==True]"
      ]
    },
    {
      "cell_type": "code",
      "execution_count": null,
      "metadata": {
        "colab": {
          "base_uri": "https://localhost:8080/"
        },
        "id": "Oz8sHr1b-_a1",
        "outputId": "1bd44f6f-b9a5-4509-a2ab-91c40c1e747f"
      },
      "outputs": [],
      "source": [
        "df_nan.shape"
      ]
    },
    {
      "cell_type": "code",
      "execution_count": null,
      "metadata": {
        "colab": {
          "base_uri": "https://localhost:8080/",
          "height": 206
        },
        "id": "ZnWtAJZ7-_a1",
        "outputId": "32b1c53a-1e45-4c4a-bd37-de422da0eb48"
      },
      "outputs": [],
      "source": [
        "df_nan.head()"
      ]
    },
    {
      "cell_type": "code",
      "execution_count": null,
      "metadata": {
        "id": "8BY_bcJC-_a1"
      },
      "outputs": [],
      "source": [
        "#now we will reset the index as the column\n",
        "df_nan=df_nan.reset_index()"
      ]
    },
    {
      "cell_type": "code",
      "execution_count": null,
      "metadata": {
        "colab": {
          "base_uri": "https://localhost:8080/",
          "height": 206
        },
        "id": "_NC5KPs6-_a2",
        "outputId": "c73e821d-4cf0-45dc-d6d0-2ee7a5cc8a37"
      },
      "outputs": [],
      "source": [
        "df_nan.head()"
      ]
    },
    {
      "cell_type": "code",
      "execution_count": null,
      "metadata": {
        "colab": {
          "base_uri": "https://localhost:8080/"
        },
        "id": "CQ1fBQIW-_a2",
        "outputId": "624b2025-450e-4021-fc69-4d494b9d39fd"
      },
      "outputs": [],
      "source": [
        "#now we will create a numpy array that will contain 1 from values 0 to 547, 2 from 548 to 693 and so on\n",
        "movie_np=[]\n",
        "movie_id=1\n",
        "for i, j in zip(df_nan['index'][1:], df_nan['index'][:-1]):\n",
        "    temp=np.full((1, i-j-1), movie_id)\n",
        "    movie_np=np.append(movie_np, temp)\n",
        "    movie_id+=1\n",
        "    \n",
        "#account for last record and corresponding length\n",
        "#numpy approach\n",
        "last_record=np.full((1, len(netflix_dataset)-df_nan.iloc[-1,0]-1), movie_id)#movie id will be 4499\n",
        "movie_np=np.append(movie_np, last_record)\n",
        "print(f'Movie numpy: {movie_np}')\n",
        "print(f'Length: {len(movie_np)}')"
      ]
    },
    {
      "cell_type": "code",
      "execution_count": null,
      "metadata": {
        "id": "PLMPJjfN-_a2"
      },
      "outputs": [],
      "source": [
        "#working\n",
        "x=zip(df_nan['index'][1:], df_nan['index'][:-1])"
      ]
    },
    {
      "cell_type": "code",
      "execution_count": null,
      "metadata": {
        "colab": {
          "base_uri": "https://localhost:8080/"
        },
        "id": "RRv5WgJ5-_a2",
        "outputId": "6bde67b9-6a16-4a7e-df55-78e3cf664bf4"
      },
      "outputs": [],
      "source": [
        "tuple(x)"
      ]
    },
    {
      "cell_type": "code",
      "execution_count": null,
      "metadata": {
        "id": "ivxxohl_-_a3"
      },
      "outputs": [],
      "source": [
        "temp=np.full((1,547), 1)"
      ]
    },
    {
      "cell_type": "code",
      "execution_count": null,
      "metadata": {
        "colab": {
          "base_uri": "https://localhost:8080/"
        },
        "id": "SwTS2-BD-_a3",
        "outputId": "b3e2816d-efa2-4bfb-b505-c309a9456253"
      },
      "outputs": [],
      "source": [
        "print(temp)"
      ]
    },
    {
      "cell_type": "code",
      "execution_count": null,
      "metadata": {
        "colab": {
          "base_uri": "https://localhost:8080/",
          "height": 347
        },
        "id": "LB5x40Uc-_a3",
        "outputId": "b72464d1-de39-42fe-e80b-97a4130798ed"
      },
      "outputs": [],
      "source": [
        "netflix_dataset=netflix_dataset[pd.notnull(netflix_dataset['Rating'])]\n",
        "netflix_dataset['Movie_Id']=movie_np.astype(int)\n",
        "netflix_dataset['Cust_Id']=netflix_dataset['Cust_Id'].astype(int)\n",
        "print(\"Now the dataset will look like: \")\n",
        "netflix_dataset.head()"
      ]
    },
    {
      "cell_type": "code",
      "execution_count": null,
      "metadata": {
        "id": "aoHe9DDn-_a3"
      },
      "outputs": [],
      "source": [
        "#now we will remove all the users that have rated less movies and \n",
        "#also all those movies that has been rated less in numbers\n",
        "f=['count','mean']"
      ]
    },
    {
      "cell_type": "code",
      "execution_count": null,
      "metadata": {
        "id": "hhoe4czD-_a3"
      },
      "outputs": [],
      "source": [
        "dataset_movie_summary=netflix_dataset.groupby('Movie_Id').agg(f)"
      ]
    },
    {
      "cell_type": "code",
      "execution_count": null,
      "metadata": {
        "colab": {
          "base_uri": "https://localhost:8080/",
          "height": 486
        },
        "id": "vjWWZSZe-_a4",
        "outputId": "7237fa12-7fcf-432a-b877-dc32418dd0b6"
      },
      "outputs": [],
      "source": [
        "dataset_movie_summary"
      ]
    },
    {
      "cell_type": "code",
      "execution_count": null,
      "metadata": {
        "id": "9IZrnDVM-_a4"
      },
      "outputs": [],
      "source": [
        "dataset_movie_summary=netflix_dataset.groupby('Movie_Id')['Rating'].agg(f)"
      ]
    },
    {
      "cell_type": "code",
      "execution_count": null,
      "metadata": {
        "colab": {
          "base_uri": "https://localhost:8080/",
          "height": 455
        },
        "id": "h2lKrdo_-_a4",
        "outputId": "6314c873-fa77-47de-eb3c-fe9acdf8f12c"
      },
      "outputs": [],
      "source": [
        "dataset_movie_summary"
      ]
    },
    {
      "cell_type": "code",
      "execution_count": null,
      "metadata": {
        "id": "PRD54-6Q-_a4"
      },
      "outputs": [],
      "source": [
        "#now we will store all the movie_id indexes in a variable dataset_movie_summary.index and convert the datatype to int\n",
        "dataset_movie_summary.index=dataset_movie_summary.index.map(int)"
      ]
    },
    {
      "cell_type": "code",
      "execution_count": null,
      "metadata": {
        "colab": {
          "base_uri": "https://localhost:8080/"
        },
        "id": "sEsJBCeW-_a4",
        "outputId": "432925b2-665b-4f2c-c748-b94fd5d129ed"
      },
      "outputs": [],
      "source": [
        "#now we will create a benchmark \n",
        "movie_benchmark=round(dataset_movie_summary['count'].quantile(0.7),0)\n",
        "movie_benchmark"
      ]
    },
    {
      "cell_type": "code",
      "execution_count": null,
      "metadata": {
        "colab": {
          "base_uri": "https://localhost:8080/"
        },
        "id": "GWY3fabl-_a4",
        "outputId": "9ea19f43-c493-428c-8357-2998ab710727"
      },
      "outputs": [],
      "source": [
        "dataset_movie_summary['count']"
      ]
    },
    {
      "cell_type": "code",
      "execution_count": null,
      "metadata": {
        "colab": {
          "base_uri": "https://localhost:8080/"
        },
        "id": "5-JVSZ2--_a5",
        "outputId": "f4483dc8-a3d5-42b8-aa4d-bed793b0041b"
      },
      "outputs": [],
      "source": [
        "drop_movie_list=dataset_movie_summary[dataset_movie_summary['count']<movie_benchmark].index\n",
        "drop_movie_list"
      ]
    },
    {
      "cell_type": "code",
      "execution_count": null,
      "metadata": {
        "colab": {
          "base_uri": "https://localhost:8080/",
          "height": 455
        },
        "id": "sW-acIHg-_a5",
        "outputId": "612a825a-3393-408e-8157-3c7ab883eafe"
      },
      "outputs": [],
      "source": [
        "#now we will remove all the users that are in-active\n",
        "dataset_cust_summary=netflix_dataset.groupby('Cust_Id')['Rating'].agg(f)\n",
        "dataset_cust_summary"
      ]
    },
    {
      "cell_type": "code",
      "execution_count": null,
      "metadata": {
        "id": "09kONRsW-_a5"
      },
      "outputs": [],
      "source": [
        "dataset_cust_summary.index=dataset_cust_summary.index.map(int)"
      ]
    },
    {
      "cell_type": "code",
      "execution_count": null,
      "metadata": {
        "colab": {
          "base_uri": "https://localhost:8080/"
        },
        "id": "4rLVS6U7-_a5",
        "outputId": "a9249ab6-40d1-4eaf-9d01-2e87ca3e7a2a"
      },
      "outputs": [],
      "source": [
        "cust_benchmark=round(dataset_cust_summary['count'].quantile(0.7),0)\n",
        "cust_benchmark"
      ]
    },
    {
      "cell_type": "code",
      "execution_count": null,
      "metadata": {
        "colab": {
          "base_uri": "https://localhost:8080/"
        },
        "id": "yRcTHqRt-_a6",
        "outputId": "6c786c86-94ad-4b98-9c94-4cb963c20271"
      },
      "outputs": [],
      "source": [
        "drop_cust_list=dataset_cust_summary[dataset_cust_summary['count']<cust_benchmark].index\n",
        "drop_cust_list"
      ]
    },
    {
      "cell_type": "code",
      "execution_count": null,
      "metadata": {
        "colab": {
          "base_uri": "https://localhost:8080/"
        },
        "id": "SH5_FCry-_a6",
        "outputId": "382ffdce-ec60-46df-f1a9-f80079349c40"
      },
      "outputs": [],
      "source": [
        "#we will remove all the customers and movies that are below the benchmark \n",
        "print('The original dataframe has: ', netflix_dataset.shape, 'shape')"
      ]
    },
    {
      "cell_type": "code",
      "execution_count": null,
      "metadata": {
        "colab": {
          "base_uri": "https://localhost:8080/"
        },
        "id": "3fYXMoX0-_a6",
        "outputId": "1ed55b5d-5bdd-45f1-fa83-59230f4f1725"
      },
      "outputs": [],
      "source": [
        "netflix_dataset=netflix_dataset[~netflix_dataset['Movie_Id'].isin(drop_movie_list)]\n",
        "netflix_dataset=netflix_dataset[~netflix_dataset['Cust_Id'].isin(drop_cust_list)]\n",
        "print('After the triming, the shape is: {}'.format(netflix_dataset.shape))"
      ]
    },
    {
      "cell_type": "code",
      "execution_count": null,
      "metadata": {
        "colab": {
          "base_uri": "https://localhost:8080/",
          "height": 206
        },
        "id": "i76_Akf5-_a6",
        "outputId": "c4f41dec-d4bb-4395-d3bb-6e7b56fdfac4"
      },
      "outputs": [],
      "source": [
        "netflix_dataset.head()"
      ]
    },
    {
      "cell_type": "code",
      "execution_count": null,
      "metadata": {
        "colab": {
          "base_uri": "https://localhost:8080/"
        },
        "id": "u36dZhgd-_a6",
        "outputId": "7b6d0b6c-d7de-4207-f0a8-260da4698bcf"
      },
      "outputs": [],
      "source": [
        "#now we will prepare the dataset for SVD and it takes the matrix as the input\n",
        "# so for input, we will convert the dataset into sparse matrix\n",
        "#4499 movies\n",
        "df_p = pd.pivot_table(netflix_dataset, values='Rating', index='Cust_Id', columns='Movie_Id')\n",
        "print(df_p.shape)"
      ]
    },
    {
      "cell_type": "code",
      "execution_count": null,
      "metadata": {
        "colab": {
          "base_uri": "https://localhost:8080/",
          "height": 331
        },
        "id": "ScVss_Xd-_a7",
        "outputId": "5eb79b11-273c-4fad-96b1-32d3bff50ef3"
      },
      "outputs": [],
      "source": [
        "df_p.head()"
      ]
    },
    {
      "cell_type": "code",
      "execution_count": null,
      "metadata": {
        "id": "MUvAc_l9gzf1"
      },
      "outputs": [],
      "source": [
        "import pandas as pd"
      ]
    },
    {
      "cell_type": "code",
      "execution_count": null,
      "metadata": {
        "id": "9h_AVCr--_a7"
      },
      "outputs": [],
      "source": [
        "df_title=pd.read_csv('movie_titles.csv', encoding='ISO-8859-1', header=None, names=['Movie_Id','Year','Name' ])\n",
        "df_title.set_index('Movie_Id', inplace=True)"
      ]
    },
    {
      "cell_type": "code",
      "execution_count": null,
      "metadata": {
        "colab": {
          "base_uri": "https://localhost:8080/",
          "height": 394
        },
        "id": "7ofp3CHA-_a7",
        "outputId": "38eb8641-38d0-4fb1-a3d0-81b46eae91eb"
      },
      "outputs": [],
      "source": [
        "df_title.head(10)"
      ]
    },
    {
      "cell_type": "code",
      "execution_count": null,
      "metadata": {
        "colab": {
          "base_uri": "https://localhost:8080/"
        },
        "id": "iL0RnWR8-_a7",
        "outputId": "35728e65-d91f-4a79-cae4-007c16f78525"
      },
      "outputs": [],
      "source": [
        "#model building\n",
        "!pip install scikit-surprise\n",
        "import math\n",
        "import re\n",
        "from scipy.sparse import csr_matrix\n",
        "import seaborn as sns\n",
        "from surprise import Reader, Dataset, SVD\n",
        "from surprise.model_selection import cross_validate"
      ]
    },
    {
      "cell_type": "code",
      "execution_count": null,
      "metadata": {
        "id": "OpjUcFU8-_a8"
      },
      "outputs": [],
      "source": [
        "#help us to read the dataset for svd algo\n",
        "reader=Reader()"
      ]
    },
    {
      "cell_type": "code",
      "execution_count": null,
      "metadata": {
        "id": "NNeCQDO3-_a8"
      },
      "outputs": [],
      "source": [
        "#we only work with top 100K rows for quick runtime\n",
        "data=Dataset.load_from_df(netflix_dataset[['Cust_Id','Movie_Id','Rating']][:100000], reader)"
      ]
    },
    {
      "cell_type": "code",
      "execution_count": null,
      "metadata": {
        "colab": {
          "base_uri": "https://localhost:8080/"
        },
        "id": "6-KslE4J-_a8",
        "outputId": "4b1be76e-bf06-43ae-d8c6-adc9e9d396c6"
      },
      "outputs": [],
      "source": [
        "svd=SVD()\n",
        "cross_validate(svd, data, measures=['RMSE','MAE'], cv=3, verbose=True)\n",
        "#for 1st fold- 1,2,3,4,5"
      ]
    },
    {
      "cell_type": "code",
      "execution_count": null,
      "metadata": {
        "colab": {
          "base_uri": "https://localhost:8080/",
          "height": 206
        },
        "id": "NVpTPH3V-_a8",
        "outputId": "87ae47ca-b257-4cb4-e7c7-1c7e0d8e4938"
      },
      "outputs": [],
      "source": [
        "netflix_dataset.head()"
      ]
    },
    {
      "cell_type": "code",
      "execution_count": null,
      "metadata": {
        "colab": {
          "base_uri": "https://localhost:8080/"
        },
        "id": "oKHYSwvM-_a9",
        "outputId": "0ea5c478-93b1-4f06-c530-3b84cfccf04e"
      },
      "outputs": [],
      "source": [
        "#so first we take user 712664 and we try to recommend some movies based on the past data\n",
        "dataset_712664=netflix_dataset[(netflix_dataset['Cust_Id'] ==712664)& (netflix_dataset['Rating']==5)]\n",
        "dataset_712664=dataset_712664.set_index('Movie_Id')\n",
        "dataset_712664=dataset_712664.join(df_title)['Name']\n",
        "dataset_712664"
      ]
    },
    {
      "cell_type": "code",
      "execution_count": null,
      "metadata": {
        "colab": {
          "base_uri": "https://localhost:8080/",
          "height": 455
        },
        "id": "FzZGhSfj-_a9",
        "outputId": "caada2d8-a081-4bed-8536-c80114922b9e"
      },
      "outputs": [],
      "source": [
        "#now we will build the recommendation algorithm\n",
        "#first we will make a shallow copy of the movie_titles.csv file so that we can change the values in the copied dataset, not in the actual dataset\n",
        "\n",
        "user_712664=df_title.copy()\n",
        "user_712664"
      ]
    },
    {
      "cell_type": "code",
      "execution_count": null,
      "metadata": {
        "colab": {
          "base_uri": "https://localhost:8080/",
          "height": 423
        },
        "id": "OheANb_1-_a9",
        "outputId": "6e449d25-4998-46c0-ff35-10527a198db2"
      },
      "outputs": [],
      "source": [
        "user_712664=user_712664.reset_index()\n",
        "user_712664"
      ]
    },
    {
      "cell_type": "code",
      "execution_count": null,
      "metadata": {
        "colab": {
          "base_uri": "https://localhost:8080/",
          "height": 423
        },
        "id": "NwD1NFaq-_a9",
        "outputId": "6f526e57-06a6-4306-f2d8-af273a0d8c33"
      },
      "outputs": [],
      "source": [
        "user_712664=user_712664[~user_712664['Movie_Id'].isin(drop_movie_list)]\n",
        "user_712664"
      ]
    },
    {
      "cell_type": "code",
      "execution_count": null,
      "metadata": {
        "id": "2AEQf_jsWo09"
      },
      "outputs": [],
      "source": [
        "import math\n",
        "from surprise import Reader, Dataset, SVD\n",
        "from surprise.model_selection import cross_validate#k-fold "
      ]
    },
    {
      "cell_type": "code",
      "execution_count": null,
      "metadata": {
        "id": "01dMJoFV-_a9"
      },
      "outputs": [],
      "source": [
        "#now we will train our algorithm with the whole dataset\n",
        "data=Dataset.load_from_df(netflix_dataset[['Cust_Id','Movie_Id','Rating']], reader)"
      ]
    },
    {
      "cell_type": "code",
      "execution_count": null,
      "metadata": {
        "id": "806v12Z5-_a9"
      },
      "outputs": [],
      "source": [
        "#building the trainset using surprise package\n",
        "trainset=data.build_full_trainset()\n",
        "svd.fit(trainset)"
      ]
    },
    {
      "cell_type": "code",
      "execution_count": null,
      "metadata": {
        "id": "gPiOl200-_a-"
      },
      "outputs": [],
      "source": [
        "user_712664['Estimate_Score']=user_712664['Movie_Id'].apply(lambda x: svd.predict(712664, x).est)\n",
        "user_712664=user_712664.drop('Movie_Id', axis=1)"
      ]
    },
    {
      "cell_type": "code",
      "execution_count": null,
      "metadata": {
        "id": "zSKBQdDm-_a-"
      },
      "outputs": [],
      "source": [
        "user_712664=user_712664.sort_values('Estimate_Score')\n",
        "print(user_712664.head(10))"
      ]
    },
    {
      "cell_type": "code",
      "execution_count": null,
      "metadata": {
        "id": "0jodA78c-_a-"
      },
      "outputs": [],
      "source": [
        "user_712664=user_712664.sort_values('Estimate_Score', ascending=False)\n",
        "print(user_712664.head(10))"
      ]
    },
    {
      "cell_type": "code",
      "execution_count": null,
      "metadata": {
        "id": "prI4xK1z-_a-"
      },
      "outputs": [],
      "source": []
    }
  ],
  "metadata": {
    "colab": {
      "provenance": []
    },
    "kernelspec": {
      "display_name": "Python 3",
      "language": "python",
      "name": "python3"
    },
    "language_info": {
      "codemirror_mode": {
        "name": "ipython",
        "version": 3
      },
      "file_extension": ".py",
      "mimetype": "text/x-python",
      "name": "python",
      "nbconvert_exporter": "python",
      "pygments_lexer": "ipython3",
      "version": "3.10.7"
    },
    "vscode": {
      "interpreter": {
        "hash": "f6d98b16f03d18d9f1eca87e52649c6588ecf9b811e50f2c4c71d23f162e7d39"
      }
    }
  },
  "nbformat": 4,
  "nbformat_minor": 0
}
