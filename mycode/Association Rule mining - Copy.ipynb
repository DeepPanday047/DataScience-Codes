{
 "cells": [
  {
   "cell_type": "code",
   "execution_count": 1,
   "id": "cefbc8ac",
   "metadata": {},
   "outputs": [],
   "source": [
    "import numpy as np\n",
    "import pandas as pd\n",
    "import matplotlib.pyplot as plt\n",
    "from apyori import apriori"
   ]
  },
  {
   "cell_type": "markdown",
   "id": "b612eb73",
   "metadata": {},
   "source": [
    "# Load the dataset"
   ]
  },
  {
   "cell_type": "code",
   "execution_count": 2,
   "id": "11ecd115",
   "metadata": {},
   "outputs": [
    {
     "data": {
      "text/html": [
       "<div>\n",
       "<style scoped>\n",
       "    .dataframe tbody tr th:only-of-type {\n",
       "        vertical-align: middle;\n",
       "    }\n",
       "\n",
       "    .dataframe tbody tr th {\n",
       "        vertical-align: top;\n",
       "    }\n",
       "\n",
       "    .dataframe thead th {\n",
       "        text-align: right;\n",
       "    }\n",
       "</style>\n",
       "<table border=\"1\" class=\"dataframe\">\n",
       "  <thead>\n",
       "    <tr style=\"text-align: right;\">\n",
       "      <th></th>\n",
       "      <th>shrimp</th>\n",
       "      <th>almonds</th>\n",
       "      <th>avocado</th>\n",
       "      <th>vegetables mix</th>\n",
       "      <th>green grapes</th>\n",
       "      <th>whole weat flour</th>\n",
       "      <th>yams</th>\n",
       "      <th>cottage cheese</th>\n",
       "      <th>energy drink</th>\n",
       "      <th>tomato juice</th>\n",
       "      <th>low fat yogurt</th>\n",
       "      <th>green tea</th>\n",
       "      <th>honey</th>\n",
       "      <th>salad</th>\n",
       "      <th>mineral water</th>\n",
       "      <th>salmon</th>\n",
       "      <th>antioxydant juice</th>\n",
       "      <th>frozen smoothie</th>\n",
       "      <th>spinach</th>\n",
       "      <th>olive oil</th>\n",
       "    </tr>\n",
       "  </thead>\n",
       "  <tbody>\n",
       "    <tr>\n",
       "      <th>0</th>\n",
       "      <td>burgers</td>\n",
       "      <td>meatballs</td>\n",
       "      <td>eggs</td>\n",
       "      <td>NaN</td>\n",
       "      <td>NaN</td>\n",
       "      <td>NaN</td>\n",
       "      <td>NaN</td>\n",
       "      <td>NaN</td>\n",
       "      <td>NaN</td>\n",
       "      <td>NaN</td>\n",
       "      <td>NaN</td>\n",
       "      <td>NaN</td>\n",
       "      <td>NaN</td>\n",
       "      <td>NaN</td>\n",
       "      <td>NaN</td>\n",
       "      <td>NaN</td>\n",
       "      <td>NaN</td>\n",
       "      <td>NaN</td>\n",
       "      <td>NaN</td>\n",
       "      <td>NaN</td>\n",
       "    </tr>\n",
       "    <tr>\n",
       "      <th>1</th>\n",
       "      <td>chutney</td>\n",
       "      <td>NaN</td>\n",
       "      <td>NaN</td>\n",
       "      <td>NaN</td>\n",
       "      <td>NaN</td>\n",
       "      <td>NaN</td>\n",
       "      <td>NaN</td>\n",
       "      <td>NaN</td>\n",
       "      <td>NaN</td>\n",
       "      <td>NaN</td>\n",
       "      <td>NaN</td>\n",
       "      <td>NaN</td>\n",
       "      <td>NaN</td>\n",
       "      <td>NaN</td>\n",
       "      <td>NaN</td>\n",
       "      <td>NaN</td>\n",
       "      <td>NaN</td>\n",
       "      <td>NaN</td>\n",
       "      <td>NaN</td>\n",
       "      <td>NaN</td>\n",
       "    </tr>\n",
       "    <tr>\n",
       "      <th>2</th>\n",
       "      <td>turkey</td>\n",
       "      <td>avocado</td>\n",
       "      <td>NaN</td>\n",
       "      <td>NaN</td>\n",
       "      <td>NaN</td>\n",
       "      <td>NaN</td>\n",
       "      <td>NaN</td>\n",
       "      <td>NaN</td>\n",
       "      <td>NaN</td>\n",
       "      <td>NaN</td>\n",
       "      <td>NaN</td>\n",
       "      <td>NaN</td>\n",
       "      <td>NaN</td>\n",
       "      <td>NaN</td>\n",
       "      <td>NaN</td>\n",
       "      <td>NaN</td>\n",
       "      <td>NaN</td>\n",
       "      <td>NaN</td>\n",
       "      <td>NaN</td>\n",
       "      <td>NaN</td>\n",
       "    </tr>\n",
       "    <tr>\n",
       "      <th>3</th>\n",
       "      <td>mineral water</td>\n",
       "      <td>milk</td>\n",
       "      <td>energy bar</td>\n",
       "      <td>whole wheat rice</td>\n",
       "      <td>green tea</td>\n",
       "      <td>NaN</td>\n",
       "      <td>NaN</td>\n",
       "      <td>NaN</td>\n",
       "      <td>NaN</td>\n",
       "      <td>NaN</td>\n",
       "      <td>NaN</td>\n",
       "      <td>NaN</td>\n",
       "      <td>NaN</td>\n",
       "      <td>NaN</td>\n",
       "      <td>NaN</td>\n",
       "      <td>NaN</td>\n",
       "      <td>NaN</td>\n",
       "      <td>NaN</td>\n",
       "      <td>NaN</td>\n",
       "      <td>NaN</td>\n",
       "    </tr>\n",
       "    <tr>\n",
       "      <th>4</th>\n",
       "      <td>low fat yogurt</td>\n",
       "      <td>NaN</td>\n",
       "      <td>NaN</td>\n",
       "      <td>NaN</td>\n",
       "      <td>NaN</td>\n",
       "      <td>NaN</td>\n",
       "      <td>NaN</td>\n",
       "      <td>NaN</td>\n",
       "      <td>NaN</td>\n",
       "      <td>NaN</td>\n",
       "      <td>NaN</td>\n",
       "      <td>NaN</td>\n",
       "      <td>NaN</td>\n",
       "      <td>NaN</td>\n",
       "      <td>NaN</td>\n",
       "      <td>NaN</td>\n",
       "      <td>NaN</td>\n",
       "      <td>NaN</td>\n",
       "      <td>NaN</td>\n",
       "      <td>NaN</td>\n",
       "    </tr>\n",
       "  </tbody>\n",
       "</table>\n",
       "</div>"
      ],
      "text/plain": [
       "           shrimp    almonds     avocado    vegetables mix green grapes  \\\n",
       "0         burgers  meatballs        eggs               NaN          NaN   \n",
       "1         chutney        NaN         NaN               NaN          NaN   \n",
       "2          turkey    avocado         NaN               NaN          NaN   \n",
       "3   mineral water       milk  energy bar  whole wheat rice    green tea   \n",
       "4  low fat yogurt        NaN         NaN               NaN          NaN   \n",
       "\n",
       "  whole weat flour yams cottage cheese energy drink tomato juice  \\\n",
       "0              NaN  NaN            NaN          NaN          NaN   \n",
       "1              NaN  NaN            NaN          NaN          NaN   \n",
       "2              NaN  NaN            NaN          NaN          NaN   \n",
       "3              NaN  NaN            NaN          NaN          NaN   \n",
       "4              NaN  NaN            NaN          NaN          NaN   \n",
       "\n",
       "  low fat yogurt green tea honey salad mineral water salmon antioxydant juice  \\\n",
       "0            NaN       NaN   NaN   NaN           NaN    NaN               NaN   \n",
       "1            NaN       NaN   NaN   NaN           NaN    NaN               NaN   \n",
       "2            NaN       NaN   NaN   NaN           NaN    NaN               NaN   \n",
       "3            NaN       NaN   NaN   NaN           NaN    NaN               NaN   \n",
       "4            NaN       NaN   NaN   NaN           NaN    NaN               NaN   \n",
       "\n",
       "  frozen smoothie spinach  olive oil  \n",
       "0             NaN     NaN        NaN  \n",
       "1             NaN     NaN        NaN  \n",
       "2             NaN     NaN        NaN  \n",
       "3             NaN     NaN        NaN  \n",
       "4             NaN     NaN        NaN  "
      ]
     },
     "execution_count": 2,
     "metadata": {},
     "output_type": "execute_result"
    }
   ],
   "source": [
    "data = pd.read_csv(r'store_data.csv')\n",
    "data.head()"
   ]
  },
  {
   "cell_type": "code",
   "execution_count": 3,
   "id": "e3ac75fa",
   "metadata": {},
   "outputs": [
    {
     "data": {
      "text/plain": [
       "(7500, 20)"
      ]
     },
     "execution_count": 3,
     "metadata": {},
     "output_type": "execute_result"
    }
   ],
   "source": [
    "data.shape"
   ]
  },
  {
   "cell_type": "code",
   "execution_count": 4,
   "id": "610c0c61",
   "metadata": {},
   "outputs": [],
   "source": [
    "# converting the pandas dataframe to list of list\n",
    "records = []\n",
    "for i in range(0,7500):\n",
    "    records.append([str(data.values[i,j]) for j in range(0,20)])"
   ]
  },
  {
   "cell_type": "code",
   "execution_count": 9,
   "id": "8e18e642",
   "metadata": {},
   "outputs": [
    {
     "name": "stdout",
     "output_type": "stream",
     "text": [
      "['burgers', 'meatballs', 'eggs', 'nan', 'nan', 'nan', 'nan', 'nan', 'nan', 'nan', 'nan', 'nan', 'nan', 'nan', 'nan', 'nan', 'nan', 'nan', 'nan', 'nan'] "
     ]
    }
   ],
   "source": [
    "print(records[0],end=' ')"
   ]
  },
  {
   "cell_type": "code",
   "execution_count": 11,
   "id": "23091436",
   "metadata": {},
   "outputs": [],
   "source": [
    "# Finding the First apriori model\n",
    "association_rules =apriori(records,\n",
    "                           min_support=0.0045,\n",
    "                           min_confidence=0.2,\n",
    "                           min_lift=3,\n",
    "                           min_length=2)\n",
    "association_results = list(association_rules)"
   ]
  },
  {
   "cell_type": "code",
   "execution_count": 12,
   "id": "d75dc40b",
   "metadata": {},
   "outputs": [
    {
     "name": "stdout",
     "output_type": "stream",
     "text": [
      "48\n"
     ]
    }
   ],
   "source": [
    "print(len(association_results))"
   ]
  },
  {
   "cell_type": "code",
   "execution_count": 13,
   "id": "c5c741d7",
   "metadata": {},
   "outputs": [
    {
     "name": "stdout",
     "output_type": "stream",
     "text": [
      "RelationRecord(items=frozenset({'light cream', 'chicken'}), support=0.004533333333333334, ordered_statistics=[OrderedStatistic(items_base=frozenset({'light cream'}), items_add=frozenset({'chicken'}), confidence=0.2905982905982906, lift=4.843304843304844)])\n"
     ]
    }
   ],
   "source": [
    "print(association_results[0])"
   ]
  },
  {
   "cell_type": "code",
   "execution_count": 14,
   "id": "ec612610",
   "metadata": {},
   "outputs": [
    {
     "name": "stdout",
     "output_type": "stream",
     "text": [
      "RelationRecord(items=frozenset({'escalope', 'mushroom cream sauce'}), support=0.005733333333333333, ordered_statistics=[OrderedStatistic(items_base=frozenset({'mushroom cream sauce'}), items_add=frozenset({'escalope'}), confidence=0.30069930069930073, lift=3.7903273197390845)])\n"
     ]
    }
   ],
   "source": [
    "print(association_results[1])"
   ]
  },
  {
   "cell_type": "code",
   "execution_count": 15,
   "id": "4e2ce55b",
   "metadata": {},
   "outputs": [],
   "source": [
    "# Building the second apriori model\n",
    "\n",
    "association_rules = apriori(\n",
    "                            records,\n",
    "                            min_support=0.010,\n",
    "                            min_confidence=0.5,\n",
    "                            min_lift=2)\n",
    "association_results =list(association_rules)"
   ]
  },
  {
   "cell_type": "code",
   "execution_count": 16,
   "id": "8a633b0f",
   "metadata": {},
   "outputs": [
    {
     "data": {
      "text/plain": [
       "4"
      ]
     },
     "execution_count": 16,
     "metadata": {},
     "output_type": "execute_result"
    }
   ],
   "source": [
    "len(association_results)"
   ]
  },
  {
   "cell_type": "code",
   "execution_count": 17,
   "id": "96817d33",
   "metadata": {},
   "outputs": [
    {
     "data": {
      "text/plain": [
       "RelationRecord(items=frozenset({'ground beef', 'mineral water', 'eggs'}), support=0.010133333333333333, ordered_statistics=[OrderedStatistic(items_base=frozenset({'ground beef', 'eggs'}), items_add=frozenset({'mineral water'}), confidence=0.5066666666666666, lift=2.1264689423614995)])"
      ]
     },
     "execution_count": 17,
     "metadata": {},
     "output_type": "execute_result"
    }
   ],
   "source": [
    "association_results[0]"
   ]
  },
  {
   "cell_type": "code",
   "execution_count": 18,
   "id": "cadf1cfc",
   "metadata": {},
   "outputs": [
    {
     "data": {
      "text/plain": [
       "RelationRecord(items=frozenset({'ground beef', 'mineral water', 'milk'}), support=0.011066666666666667, ordered_statistics=[OrderedStatistic(items_base=frozenset({'ground beef', 'milk'}), items_add=frozenset({'mineral water'}), confidence=0.503030303030303, lift=2.1112072035407237)])"
      ]
     },
     "execution_count": 18,
     "metadata": {},
     "output_type": "execute_result"
    }
   ],
   "source": [
    "association_results[1]"
   ]
  },
  {
   "cell_type": "code",
   "execution_count": null,
   "id": "a725aa7d",
   "metadata": {},
   "outputs": [],
   "source": []
  }
 ],
 "metadata": {
  "kernelspec": {
   "display_name": "Python 3 (ipykernel)",
   "language": "python",
   "name": "python3"
  },
  "language_info": {
   "codemirror_mode": {
    "name": "ipython",
    "version": 3
   },
   "file_extension": ".py",
   "mimetype": "text/x-python",
   "name": "python",
   "nbconvert_exporter": "python",
   "pygments_lexer": "ipython3",
   "version": "3.9.12"
  }
 },
 "nbformat": 4,
 "nbformat_minor": 5
}
